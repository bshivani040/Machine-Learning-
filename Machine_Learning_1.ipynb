{
  "nbformat": 4,
  "nbformat_minor": 0,
  "metadata": {
    "colab": {
      "name": "Machine Learning-1",
      "provenance": [],
      "authorship_tag": "ABX9TyN4BCB6Yw4gxk1UsG2I4Q/R",
      "include_colab_link": true
    },
    "kernelspec": {
      "name": "python3",
      "display_name": "Python 3"
    }
  },
  "cells": [
    {
      "cell_type": "markdown",
      "metadata": {
        "id": "view-in-github",
        "colab_type": "text"
      },
      "source": [
        "<a href=\"https://colab.research.google.com/github/bshivani040/Machine-Learning-/blob/master/Machine_Learning_1.ipynb\" target=\"_parent\"><img src=\"https://colab.research.google.com/assets/colab-badge.svg\" alt=\"Open In Colab\"/></a>"
      ]
    },
    {
      "cell_type": "code",
      "metadata": {
        "id": "KwHbLnu1mRFn",
        "colab_type": "code",
        "colab": {
          "base_uri": "https://localhost:8080/",
          "height": 101
        },
        "outputId": "09b68957-93a7-49ed-bf98-391839ff8ad7"
      },
      "source": [
        "import numpy as np\n",
        "import pandas as pd\n",
        "dataframe=pd.DataFrame(data=[\n",
        "          ['Rahul','X',56],\n",
        "          ['Rohit','X',45],\n",
        "          ['Sonu','X11',78],\n",
        "          ['Harsh','X11',56],\n",
        "],columns=['Names','Class','Marks'])\n",
        "print(dataframe)"
      ],
      "execution_count": 13,
      "outputs": [
        {
          "output_type": "stream",
          "text": [
            "   Names Class  Marks\n",
            "0  Rahul     X     56\n",
            "1  Rohit     X     45\n",
            "2   Sonu   X11     78\n",
            "3  Harsh   X11     56\n"
          ],
          "name": "stdout"
        }
      ]
    },
    {
      "cell_type": "code",
      "metadata": {
        "id": "ARFylbU5oPeB",
        "colab_type": "code",
        "colab": {
          "base_uri": "https://localhost:8080/",
          "height": 101
        },
        "outputId": "4205bb14-bf20-49e4-fac3-6af85585abf9"
      },
      "source": [
        "from sklearn.preprocessing import LabelEncoder\n",
        "from sklearn.linear_model import LinearRegression\n",
        "le_name=LabelEncoder()\n",
        "le_class=LabelEncoder()\n",
        "le_name.fit(dataframe['Names'])\n",
        "le_class.fit(dataframe['Class'])\n",
        "dataframe['Names']=le_name.transform(dataframe['Names'])\n",
        "dataframe['Class']=le_class.transform(dataframe['Class'])\n",
        "print(dataframe)\n"
      ],
      "execution_count": 14,
      "outputs": [
        {
          "output_type": "stream",
          "text": [
            "   Names  Class  Marks\n",
            "0      1      0     56\n",
            "1      2      0     45\n",
            "2      3      1     78\n",
            "3      0      1     56\n"
          ],
          "name": "stdout"
        }
      ]
    },
    {
      "cell_type": "code",
      "metadata": {
        "id": "YXUvVTZRp3C8",
        "colab_type": "code",
        "colab": {
          "base_uri": "https://localhost:8080/",
          "height": 185
        },
        "outputId": "6492f2c2-a023-43c8-dea3-18e990e453a6"
      },
      "source": [
        "X=dataframe.drop(['Marks'],axis=1)\n",
        "print(X)\n",
        "Y=dataframe['Marks']\n",
        "print(Y)"
      ],
      "execution_count": 15,
      "outputs": [
        {
          "output_type": "stream",
          "text": [
            "   Names  Class\n",
            "0      1      0\n",
            "1      2      0\n",
            "2      3      1\n",
            "3      0      1\n",
            "0    56\n",
            "1    45\n",
            "2    78\n",
            "3    56\n",
            "Name: Marks, dtype: int64\n"
          ],
          "name": "stdout"
        }
      ]
    },
    {
      "cell_type": "code",
      "metadata": {
        "id": "0JUkSB3JqwPN",
        "colab_type": "code",
        "colab": {
          "base_uri": "https://localhost:8080/",
          "height": 34
        },
        "outputId": "629e3904-4007-41f4-9b6d-96f8a862332f"
      },
      "source": [
        "clf=LinearRegression()\n",
        "clf.fit(X,Y)\n",
        "score=clf.score(X,Y)\n",
        "print(score)"
      ],
      "execution_count": 16,
      "outputs": [
        {
          "output_type": "stream",
          "text": [
            "0.736842105263158\n"
          ],
          "name": "stdout"
        }
      ]
    },
    {
      "cell_type": "code",
      "metadata": {
        "id": "vCtJwjzWrWBz",
        "colab_type": "code",
        "colab": {
          "base_uri": "https://localhost:8080/",
          "height": 84
        },
        "outputId": "99f5a294-33f3-4710-f7eb-42aaa70e93fd"
      },
      "source": [
        "predict_data=X.tail(2)\n",
        "print(predict_data)\n",
        "predict_output=clf.predict(predict_data)\n",
        "print(predict_output)\n"
      ],
      "execution_count": 17,
      "outputs": [
        {
          "output_type": "stream",
          "text": [
            "   Names  Class\n",
            "2      3      1\n",
            "3      0      1\n",
            "[75.25 58.75]\n"
          ],
          "name": "stdout"
        }
      ]
    }
  ]
}